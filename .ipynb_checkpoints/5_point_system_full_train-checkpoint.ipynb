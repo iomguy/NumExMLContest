{
 "cells": [
  {
   "cell_type": "code",
   "execution_count": null,
   "metadata": {},
   "outputs": [],
   "source": [
    "import pandas as pd\n",
    "import catboost\n",
    "import numpy as np\n",
    "import tqdm\n",
    "from sklearn.model_selection import KFold\n",
    "from catboost import CatBoostRegressor, FeaturesData, Pool\n",
    "from matplotlib import pyplot as plt"
   ]
  },
  {
   "cell_type": "code",
   "execution_count": null,
   "metadata": {},
   "outputs": [],
   "source": [
    "data_train = pd.read_csv(\"Results(4000).csv\", engine='python', encoding=\"windows-1251\", sep=\";\", index_col=False,\n",
    "                             skiprows=2)\n",
    "\n",
    "nns = data_train.loc[data_train[\"Well_type\"] == 1]\n",
    "nns_grp = data_train.loc[data_train[\"Well_type\"] == 2]\n",
    "gs = data_train.loc[data_train[\"Well_type\"] == 3]\n",
    "gs_grp = data_train.loc[data_train[\"Well_type\"] == 4]"
   ]
  },
  {
   "cell_type": "code",
   "execution_count": null,
   "metadata": {},
   "outputs": [],
   "source": [
    "nns_numeric_features_names = [\"PSS\", \"Pprod\", \"Pinj\", \"Perm\", \"h\", \"a/b\", \"Poro\", \"Sw\", \"VdP\", \"Pbp\", \"mo\",\n",
    "                                  \"Bo\", \"po\", \"mw\", \"Bw\", \"Pres\"]\n",
    "nns_features = nns[nns_numeric_features_names]\n",
    "nns_target = nns[[\"NPV\"]]\n",
    "\n",
    "nns_grp_numeric_features_names = [\"PSS\", \"Pprod\", \"Pinj\", \"Perm\", \"h\", \"a/b\", \"Poro\", \"Sw\", \"VdP\", \"Pbp\", \"mo\",\n",
    "                                  \"Bo\", \"po\", \"mw\", \"Bw\", \"Pres\",\n",
    "                                  \"Lfracprod\", \"Lfracinj\", \"Frac_perm\", \"Wprod\", \"Winj\"]\n",
    "nns_grp_features = nns_grp[nns_grp_numeric_features_names]\n",
    "nns_grp_target = nns_grp[[\"NPV\"]]\n",
    "\n",
    "gs_numeric_features_names = [\"PSS\", \"Pprod\", \"Pinj\", \"Perm\", \"h\", \"a/b\", \"Poro\", \"Sw\", \"VdP\", \"Pbp\", \"mo\",\n",
    "                              \"Bo\", \"po\", \"mw\", \"Bw\", \"Pres\", \"Lgsprod\", \"Lgsinj\"]\n",
    "gs_features = gs[gs_numeric_features_names]\n",
    "gs_target = gs[[\"NPV\"]]\n",
    "\n",
    "gs_grp_numeric_features_names = [\"PSS\", \"Pprod\", \"Pinj\", \"Perm\", \"h\", \"a/b\", \"Poro\", \"Sw\", \"VdP\", \"Pbp\", \"mo\",\n",
    "                                  \"Bo\", \"po\", \"mw\", \"Bw\", \"Pres\",\n",
    "                                 \"Lfracprod\", \"Lfracinj\", \"Frac_perm\", \"Wprod\", \"Winj\",\n",
    "                                 \"Lgsprod\", \"Lgsinj\", \"Nfracprod\", \"Nfracinj\"]\n",
    "gs_grp_features = gs_grp[gs_grp_numeric_features_names]\n",
    "gs_grp_target = gs_grp[[\"NPV\"]]"
   ]
  },
  {
   "cell_type": "code",
   "execution_count": null,
   "metadata": {},
   "outputs": [],
   "source": [
    "nns_model = CatBoostRegressor(iterations=400, learning_rate=0.6, depth=6, name=\"nns_5_point_full\", loss_function='RMSE', eval_metric=\"MAE\")\n",
    "nns_train_pool = catboost.Pool(nns_features, nns_target)\n",
    "nns_model.fit(nns_train_pool, verbose=False, plot=True, use_best_model=True)\n",
    "catboost.save_model(nns_model, \"/5_point_full_trained_catboosts/nns_model.model\")"
   ]
  },
  {
   "cell_type": "code",
   "execution_count": null,
   "metadata": {},
   "outputs": [],
   "source": [
    "nns_grp_model = CatBoostRegressor(iterations=400, learning_rate=0.6, depth=6, name=\"nns_grp_5_point_full\", loss_function='RMSE', eval_metric=\"MAE\")\n",
    "nns_grp_train_pool = catboost.Pool(nns_grp_features, nns_grp_target)\n",
    "nns_grp_model.fit(nns_grp_train_pool, verbose=False, plot=True, use_best_model=True)\n",
    "catboost.save_model(nns_grp_model, \"/5_point_full_trained_catboosts/nns_grp_model.model\")\n",
    "\n",
    "gs_model = CatBoostRegressor(iterations=400, learning_rate=0.6, depth=6, name=\"gs_5_point_full\", loss_function='RMSE', eval_metric=\"MAE\")\n",
    "gs_train_pool = catboost.Pool(gs_target, gs_target)\n",
    "gs_model.fit(gs_train_pool, verbose=False, plot=True, use_best_model=True)\n",
    "catboost.save_model(gs_model, \"/5_point_full_trained_catboosts/gs_model.model\")\n",
    "\n",
    "gs_grp_model = CatBoostRegressor(iterations=400, learning_rate=0.6, depth=6, name=\"gs_grp_5_point_full\", loss_function='RMSE', eval_metric=\"MAE\")\n",
    "gs_grp_train_pool = catboost.Pool(gs_grp_features, gs_grp_target)\n",
    "gs_grp_model.fit(gs_grp_train_pool, verbose=False, plot=True, use_best_model=True)\n",
    "catboost.save_model(gs_grp_model, \"/5_point_full_trained_catboosts/gs_grp_model.model\")"
   ]
  }
 ],
 "metadata": {
  "kernelspec": {
   "display_name": "Python 3",
   "language": "python",
   "name": "python3"
  },
  "language_info": {
   "codemirror_mode": {
    "name": "ipython",
    "version": 3
   },
   "file_extension": ".py",
   "mimetype": "text/x-python",
   "name": "python",
   "nbconvert_exporter": "python",
   "pygments_lexer": "ipython3",
   "version": "3.6.6"
  }
 },
 "nbformat": 4,
 "nbformat_minor": 2
}
