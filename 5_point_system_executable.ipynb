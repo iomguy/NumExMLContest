{
 "cells": [
  {
   "cell_type": "code",
   "execution_count": 1,
   "metadata": {},
   "outputs": [],
   "source": [
    "import pandas as pd\n",
    "import catboost\n",
    "import numpy as np\n",
    "import tqdm\n",
    "from sklearn.model_selection import KFold\n",
    "from catboost import CatBoostRegressor, FeaturesData, Pool\n",
    "from matplotlib import pyplot as plt"
   ]
  },
  {
   "cell_type": "code",
   "execution_count": 2,
   "metadata": {},
   "outputs": [],
   "source": [
    "best_combinations_amount = 10\n",
    "data_train = pd.read_csv(\"input_5_point.csv\", engine='python', encoding=\"windows-1251\", sep=\";\", index_col=False,\n",
    "                             skiprows=2)\n",
    "\n",
    "nns = data_train.loc[data_train[\"Well_type\"] == 1]\n",
    "nns_grp = data_train.loc[data_train[\"Well_type\"] == 2]\n",
    "gs = data_train.loc[data_train[\"Well_type\"] == 3]\n",
    "gs_grp = data_train.loc[data_train[\"Well_type\"] == 4]"
   ]
  },
  {
   "cell_type": "code",
   "execution_count": 3,
   "metadata": {},
   "outputs": [],
   "source": [
    "nns_numeric_features_names = [\"PSS\", \"Pprod\", \"Pinj\", \"Perm\", \"h\", \"a/b\", \"Poro\", \"Sw\", \"VdP\", \"Pbp\", \"mo\",\n",
    "                                  \"Bo\", \"po\", \"mw\", \"Bw\", \"Pres\"]\n",
    "nns_features = nns[nns_numeric_features_names]\n",
    "nns_target = nns[[\"NPV\"]]\n",
    "\n",
    "nns_grp_numeric_features_names = [\"PSS\", \"Pprod\", \"Pinj\", \"Perm\", \"h\", \"a/b\", \"Poro\", \"Sw\", \"VdP\", \"Pbp\", \"mo\",\n",
    "                                  \"Bo\", \"po\", \"mw\", \"Bw\", \"Pres\",\n",
    "                                  \"Lfracprod\", \"Lfracinj\", \"Frac_perm\", \"Wprod\", \"Winj\"]\n",
    "nns_grp_features = nns_grp[nns_grp_numeric_features_names]\n",
    "nns_grp_target = nns_grp[[\"NPV\"]]\n",
    "\n",
    "gs_numeric_features_names = [\"PSS\", \"Pprod\", \"Pinj\", \"Perm\", \"h\", \"a/b\", \"Poro\", \"Sw\", \"VdP\", \"Pbp\", \"mo\",\n",
    "                              \"Bo\", \"po\", \"mw\", \"Bw\", \"Pres\", \"Lgsprod\", \"Lgsinj\"]\n",
    "gs_features = gs[gs_numeric_features_names]\n",
    "gs_target = gs[[\"NPV\"]]\n",
    "\n",
    "gs_grp_numeric_features_names = [\"PSS\", \"Pprod\", \"Pinj\", \"Perm\", \"h\", \"a/b\", \"Poro\", \"Sw\", \"VdP\", \"Pbp\", \"mo\",\n",
    "                                  \"Bo\", \"po\", \"mw\", \"Bw\", \"Pres\",\n",
    "                                 \"Lfracprod\", \"Lfracinj\", \"Frac_perm\", \"Wprod\", \"Winj\",\n",
    "                                 \"Lgsprod\", \"Lgsinj\", \"Nfracprod\", \"Nfracinj\"]\n",
    "gs_grp_features = gs_grp[gs_grp_numeric_features_names]\n",
    "gs_grp_target = gs_grp[[\"NPV\"]]"
   ]
  },
  {
   "cell_type": "code",
   "execution_count": 4,
   "metadata": {},
   "outputs": [],
   "source": [
    "nns_model = CatBoostRegressor()\n",
    "nns_model.load_model(\"5_point_full_trained_catboosts/nns_5_point_model\", format = 'json')\n",
    "nns_npvs = pd.DataFrame(np.column_stack((nns_model.predict(nns_features), np.array(nns_target)[:,0])))\n",
    "\n",
    "nns_grp_model = CatBoostRegressor()\n",
    "nns_grp_model.load_model(\"5_point_full_trained_catboosts/nns_grp_5_point_model\", format = 'json')\n",
    "nns_grp_npvs = pd.DataFrame(np.column_stack((nns_grp_model.predict(nns_grp_features), np.array(nns_grp_target)[:,0])))\n",
    "\n",
    "gs_model = CatBoostRegressor()\n",
    "gs_model.load_model(\"5_point_full_trained_catboosts/gs_5_point_model\", format = 'json')\n",
    "gs_npvs = pd.DataFrame(np.column_stack((gs_model.predict(gs_features), np.array(gs_target)[:,0])))\n",
    "\n",
    "gs_grp_model = CatBoostRegressor()\n",
    "gs_grp_model.load_model(\"5_point_full_trained_catboosts/gs_grp_5_point_model\", format = 'json')\n",
    "gs_grp_npvs = pd.DataFrame(np.column_stack((gs_grp_model.predict(gs_grp_features), np.array(gs_grp_target)[:,0])))"
   ]
  },
  {
   "cell_type": "code",
   "execution_count": 5,
   "metadata": {},
   "outputs": [
    {
     "name": "stdout",
     "output_type": "stream",
     "text": [
      "9 from 10\n"
     ]
    }
   ],
   "source": [
    "npvs = pd.concat([nns_npvs, nns_grp_npvs, gs_npvs, gs_grp_npvs])\n",
    "\n",
    "best_npv_combination_NumEX = np.sort(((npvs.sort_values([0], ascending=False))[0:best_combinations_amount]).index)\n",
    "best_npv_combination_ML = np.sort(((npvs.sort_values([1], ascending=False))[0:best_combinations_amount]).index)\n",
    "\n",
    "common_best_combinations = set(best_npv_combination_NumEX).intersection(set(best_npv_combination_ML))\n",
    "print(\"{0} from {1}\".format(len(common_best_combinations), best_combinations_amount)) "
   ]
  }
 ],
 "metadata": {
  "kernelspec": {
   "display_name": "Python 3",
   "language": "python",
   "name": "python3"
  },
  "language_info": {
   "codemirror_mode": {
    "name": "ipython",
    "version": 3
   },
   "file_extension": ".py",
   "mimetype": "text/x-python",
   "name": "python",
   "nbconvert_exporter": "python",
   "pygments_lexer": "ipython3",
   "version": "3.6.6"
  }
 },
 "nbformat": 4,
 "nbformat_minor": 2
}
